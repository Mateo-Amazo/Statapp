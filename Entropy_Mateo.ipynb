{
 "cells": [
  {
   "cell_type": "code",
   "execution_count": 2,
   "metadata": {},
   "outputs": [
    {
     "name": "stdout",
     "output_type": "stream",
     "text": [
      "Requirement already satisfied: pyarrow in /opt/mamba/lib/python3.11/site-packages (16.0.0)\n",
      "Requirement already satisfied: numpy>=1.16.6 in /opt/mamba/lib/python3.11/site-packages (from pyarrow) (1.26.4)\n",
      "Requirement already satisfied: pyarrow in /opt/mamba/lib/python3.11/site-packages (16.0.0)\n",
      "Requirement already satisfied: numpy>=1.16.6 in /opt/mamba/lib/python3.11/site-packages (from pyarrow) (1.26.4)\n"
     ]
    }
   ],
   "source": [
    "!pip install --quiet transformers\n",
    "!pip install --quiet datasets\n",
    "!pip install --quiet transformers[torch]\n",
    "!pip install --quiet accelerate -U\n",
    "!pip install --quiet matplotlib\n",
    "!pip install --quiet seaborn\n",
    "!pip install --quiet -U scikit-learn\n",
    "!pip install --quiet nltk\n",
    "!pip install --quiet wandb\n",
    "!pip install pyarrow\n",
    "!pip install --upgrade pyarrow"
   ]
  },
  {
   "cell_type": "code",
   "execution_count": 3,
   "metadata": {},
   "outputs": [],
   "source": [
    "from collections import defaultdict\n",
    "from tqdm import tqdm\n",
    "import requests\n",
    "import torch\n",
    "\n",
    "from transformers import pipeline\n",
    "from transformers import GPT2Tokenizer, AutoTokenizer\n",
    "from datasets import load_dataset, Dataset, DatasetDict\n",
    "from transformers import GPT2LMHeadModel, AutoConfig\n",
    "from transformers import DataCollatorForLanguageModeling\n",
    "from transformers import Trainer, TrainingArguments\n",
    "\n",
    "import matplotlib.pyplot as plt\n",
    "import seaborn as sns\n",
    "\n",
    "import numpy as np\n",
    "import pandas as pd\n",
    "import torch.nn as nn\n",
    "import torch.optim as optim\n",
    "from torch.nn.utils.rnn import pack_padded_sequence, pad_packed_sequence\n",
    "import torch.nn.functional as F"
   ]
  },
  {
   "cell_type": "code",
   "execution_count": 4,
   "metadata": {},
   "outputs": [
    {
     "data": {
      "text/plain": [
       "['mamazo/StatApp']"
      ]
     },
     "execution_count": 4,
     "metadata": {},
     "output_type": "execute_result"
    }
   ],
   "source": [
    "import os\n",
    "import s3fs\n",
    "import json\n",
    "\n",
    "BUCKET_OUT = \"mamazo\"  \n",
    "\n",
    "S3_ENDPOINT_URL = \"https://\" + os.environ[\"AWS_S3_ENDPOINT\"]\n",
    "fs = s3fs.S3FileSystem(client_kwargs={'endpoint_url': S3_ENDPOINT_URL})\n",
    "fs.ls(BUCKET_OUT)"
   ]
  },
  {
   "cell_type": "code",
   "execution_count": 5,
   "metadata": {},
   "outputs": [],
   "source": [
    "#with fs.open(LOGIN+\"/StatApp/tokenized_128_top10.json\", 'r') as file:\n",
    "#   tokenized_test = Dataset.from_dict({\"input_ids\": json.load(file)})"
   ]
  },
  {
   "cell_type": "markdown",
   "metadata": {},
   "source": [
    "# Entropy ?"
   ]
  },
  {
   "cell_type": "code",
   "execution_count": 6,
   "metadata": {},
   "outputs": [
    {
     "name": "stderr",
     "output_type": "stream",
     "text": [
      "[nltk_data] Downloading package stopwords to /home/onyxia/nltk_data...\n",
      "[nltk_data]   Package stopwords is already up-to-date!\n"
     ]
    },
    {
     "data": {
      "text/plain": [
       "True"
      ]
     },
     "execution_count": 6,
     "metadata": {},
     "output_type": "execute_result"
    }
   ],
   "source": [
    "from sklearn.feature_extraction.text import TfidfVectorizer\n",
    "from sklearn.decomposition import TruncatedSVD\n",
    "from sklearn.metrics.pairwise import cosine_similarity\n",
    "import numpy as np\n",
    "\n",
    "#import nltk\n",
    "import nltk\n",
    "from nltk.corpus import stopwords\n",
    "\n",
    "#stop-words\n",
    "nltk.download('stopwords')"
   ]
  },
  {
   "cell_type": "code",
   "execution_count": 7,
   "metadata": {},
   "outputs": [],
   "source": [
    "#Ce code est beaucoup trop sous-optimisé et ne sert pas à grand chose\n",
    "\n",
    "\n",
    "def spectral_entropy(matrix):\n",
    "    eigenvalues, _ = np.linalg.eig(matrix)\n",
    "    \n",
    "    entr = 0\n",
    "    for val in eigenvalues:\n",
    "        if val > 0 :\n",
    "            entr += val*np.log(val)\n",
    "    \n",
    "    return np.exp(-entr)\n",
    "\n",
    "def maximize_entropy(corpus, threshold_entr = np.inf, max_features=5000, seed_value=345, size_selected=10, n_components = None, affiche_index = False):\n",
    "\n",
    "    n = len(corpus[\"text\"])\n",
    "\n",
    "    if size_selected > n:\n",
    "        size_selected = n\n",
    "    if n_components == None:\n",
    "        n_components = round((size_selected)**(0.5))\n",
    "\n",
    "    np.random.seed(seed_value)\n",
    "\n",
    "    #Sélection du premier texte du corpus\n",
    "    selected_document = np.random.choice(corpus[\"text\"])\n",
    "    index = corpus[\"text\"].index(selected_document)\n",
    "\n",
    "    #Sélection du deuxième texte du corpus\n",
    "\n",
    "    if index == n-1:\n",
    "        index2 = index-1\n",
    "    else :\n",
    "        index2 = index+1\n",
    "    selected_indexes = [index,index2]\n",
    "    \n",
    "    #Création du sous-corpus dans lequel on va ajouter les documents que l'on va sélectionner\n",
    "    selected_text = corpus['text'][index]\n",
    "    selected_text2 = corpus['text'][index2]\n",
    "    sub_corpus = DatasetDict({\"text\": [selected_text,selected_text2]})\n",
    "\n",
    "    #Création du vectorizer\n",
    "    stop_words = nltk.corpus.stopwords.words('english')\n",
    "    vectorizer = TfidfVectorizer(stop_words=stop_words, max_features=max_features)\n",
    "\n",
    "    entr_tot = 0\n",
    "    for k in range(size_selected-2):\n",
    "        \n",
    "        #Création d'un sous-corpus temporaire\n",
    "        sub_corpus2 = sub_corpus\n",
    "\n",
    "        #On ne sélectionne des textes que si on a pas déjà \"suffisamment d'entropie\".\n",
    "        if entr_tot < threshold_entr: \n",
    "            \n",
    "            max_entr_tot = 0\n",
    "            index = 0\n",
    "            for j in range(0,n-1):\n",
    "                \n",
    "                #On trouve un texte que l'on n'a pas déjà utilisé\n",
    "                if j not in selected_indexes:\n",
    "\n",
    "                    #Ajout du texte au corpus temporaire\n",
    "                    selected_text = corpus['text'][j]\n",
    "                    sub_corpus2[\"text\"].append(selected_text)\n",
    "\n",
    "                    #Calcul de la matrice de similarité et de son entropie spectrale\n",
    "                    tfidf_matrix = vectorizer.fit_transform(sub_corpus2)\n",
    "                    lsa_model = TruncatedSVD(n_components=n_components, n_iter=10, random_state=seed_value)\n",
    "                    lsa_matrix = lsa_model.fit_transform(tfidf_matrix)\n",
    "                    similarity_matrix = cosine_similarity(lsa_matrix, lsa_matrix)\n",
    "                    new_entr = spectral_entropy(similarity_matrix)\n",
    "                    \n",
    "                    if new_entr > max_entr_tot:\n",
    "                        index = j\n",
    "            \n",
    "            #On ajoute le texte maximisant l'entropie pour un nombre k+2 de textes du sous-corpus\n",
    "            selected_text = corpus['text'][index]\n",
    "            sub_corpus[\"text\"].append(selected_text)\n",
    "            selected_indexes +=[index]\n",
    "            entr_tot = max_entr_tot\n",
    "\n",
    "    return sub_corpus, entr #On renvoie le sous-corpus ainsi que l'entropie du susnommé\n"
   ]
  },
  {
   "cell_type": "code",
   "execution_count": 12,
   "metadata": {},
   "outputs": [],
   "source": [
    "def select_least_similar(corpus, max_features=5000, seed_value=345, size_selected=100, n_components=None, affiche_index=False, max_df=0.5, min_df=3):\n",
    "\n",
    "    if n_components is None:\n",
    "        n_components = round((size_selected) ** 0.5)\n",
    "\n",
    "    selected_documents = []\n",
    "    selected_indices = []\n",
    "\n",
    "    stop_words = nltk.corpus.stopwords.words('english')\n",
    "\n",
    "    stop_words = nltk.corpus.stopwords.words('english')\n",
    "    vectorizer = TfidfVectorizer(stop_words=stop_words, max_features=max_features, max_df=max_df, min_df=min_df)\n",
    "\n",
    "    tfidf_matrix = vectorizer.fit_transform(corpus)\n",
    "    lsa_model = TruncatedSVD(n_components=n_components, n_iter=10, random_state=seed_value)\n",
    "    lsa_matrix = lsa_model.fit_transform(tfidf_matrix)\n",
    "    similarity_matrix = cosine_similarity(lsa_matrix, lsa_matrix)\n",
    "    \n",
    "    eig_val,_ = np.linalg.eig(similarity_matrix)\n",
    "    gini_val = np.power(eig_val,-eig_val)\n",
    "\n",
    "    sel,selected_indices = select_n_highest(gini_val,size_selected)\n",
    "\n",
    "    if affiche_index == True:\n",
    "        print(selected_indices)\n",
    "\n",
    "    return data.select(selected_indices)\n",
    "\n",
    "def select_n_highest(array, n):\n",
    "    sorted_indices = np.argsort(-array)\n",
    "    selected_indices = sorted_indices[:n]\n",
    "    selected_indices.sort()\n",
    "    selected_values = array[selected_indices]\n",
    "    return selected_values, selected_indices\n"
   ]
  },
  {
   "cell_type": "code",
   "execution_count": 9,
   "metadata": {},
   "outputs": [],
   "source": [
    "\n",
    "BUCKET_OUT = \"mamazo\"\n",
    "file='top_500_sur_10000.json'\n",
    "\n",
    "CORPUS_S3 = BUCKET_OUT + \"/\" + \"StatApp/\" + file\n",
    "with fs.open(CORPUS_S3, 'r') as f:\n",
    "        data = Dataset.from_list(json.load(f))\n"
   ]
  },
  {
   "cell_type": "code",
   "execution_count": 13,
   "metadata": {},
   "outputs": [
    {
     "name": "stdout",
     "output_type": "stream",
     "text": [
      "[ 31  32  33  34  35  36  37  38  39  40  42  43  44  45  53  54  55  56\n",
      "  57  58  59  60  61  62  63  64  65  66  67  68  69  70  71  72  73  74\n",
      "  75  76 101 102 103 104 105 106 107 108 109 110 115 116 117 118 119 120\n",
      " 121 122 123 124 125 126 127 128 129 130 131 132 133 134 135 136 137 138\n",
      " 139 142 143 144 145 146 147 148 149 156 157 158 159 166 167 173 174 179\n",
      " 180 181 182 183 184 185 186 187 188 189 190 191 192 193 194 195 196 197\n",
      " 198 199 200 201 202 203 204 205 206 207 208 209 210 211 212 213 216 217\n",
      " 218 219 224 225 226 227 228 231 232 235 236 237 238 239 240 241 242 243\n",
      " 244 245 246 247 248 249 250 251 252 253 254 255 256 257 258 259 260 261\n",
      " 262 263 264 265 266 267 268 269 270 271 272 273 274 275 276 277 278 279\n",
      " 280 281 282 283 284 285 286 287 288 289 290 291 292 293 294 295 296 297\n",
      " 298 299 300 301 302 303 304 305 306 307 308 309 310 311 312 313 314 315\n",
      " 316 317 318 319 320 321 322 323 324 325 326 327 328 329 330 331 332 333\n",
      " 334 335 336 337 338 339 340 341 342 343 344 345 346 347 348 349 350 351\n",
      " 352 353 354 355 356 357 358 359 360 361 362 363 364 365 366 367 368 369\n",
      " 370 371 372 373 374 375 376 377 378 379 380 381 382 383 384 385 386 387\n",
      " 388 389 390 391 392 393 394 395 396 397 398 399 400 401 402 403 404 405\n",
      " 406 407 408 409 410 411 412 413 414 415 416 417 418 419 420 421 422 423\n",
      " 424 425 426 427 428 429 430 431 432 433 434 435 436 437 438 439 440 441\n",
      " 442 443 444 445 446 447 448 449 450 451 452 453 454 455 456 457 458 459\n",
      " 460 461 462 463 464 465 466 467 468 469 470 471 472 473 474 475 476 477\n",
      " 478 479 480 481 482 483 484 485 486 487 488 489 490 491 492 493 494 495\n",
      " 496 497 498 499 500 501 502 503 504 505 506 507 508 509 510 511 512 513\n",
      " 514 515 516 517 518 519 520 521 522 523 524 525 526 527 528 529 530 531\n",
      " 532 533 534 535 536 537 538 539 540 541 542 543 544 545 546 547 548 549\n",
      " 550 551 552 553 554 555 556 557 558 559 560 561 562 563 564 565 566 567\n",
      " 568 569 570 571 572 573 574 575 576 577 578 579 580 581 582 583 584 585\n",
      " 586 587 588 589 590 591 592 593 594 595 596 597 598 599 600 601 602 603\n",
      " 604 605 606 607 608 609 610 611 612 613 614 615 616 617 618 619 620 621\n",
      " 622 623 624 625 626 627 628 629 630 631 632 633 634 635 636 637 638 639\n",
      " 640 641 642 643 644 645 646 647 648 649 650 651 652 653 654 655 656 657\n",
      " 658 659 660 661 662 663 664 665 666 667 668 669 670 671 672 673 674 675\n",
      " 676 677 678 679 680 681 682 683 684 685 686 687 688 689 690 691 692 693\n",
      " 694 695 696 697 698 699 700 701 702 703 704 705 706 707 708 709 710 711\n",
      " 712 713 714 715 716 717 718 719 720 721 722 723 724 725 726 727 728 729\n",
      " 730 731 732 733 734 735 736 737 738 739 740 741 742 743 744 745 746 747\n",
      " 748 749 750 751 752 753 754 755 756 757 758 759 760 761 762 763 764 765\n",
      " 766 767 768 769 770 771 772 773 774 775 776 777 778 779 780 781 782 783\n",
      " 784 785 786 787 788 789 790 791 792 793 794 795 796 797 798 799 800 801\n",
      " 802 803 804 805 806 807 808 809 810 811 812 813 814 815 816 817 818 819\n",
      " 820 821 822 823 824 825 826 827 828 829 830 831 832 833 834 835 836 837\n",
      " 838 839 840 841 842 843 844 845 846 847 848 849 850 851 852 853 854 855\n",
      " 856 857 858 859 860 861 862 863 864 865 866 867 868 869 870 871 872 873\n",
      " 874 875 876 877 878 879 880 881 882 883 884 885 886 887 888 889 890 891\n",
      " 892 893 894 895 896 897 898 899 900 901 902 903 904 905 906 907 908 909\n",
      " 910 911 912 913 914 915 916 917 918 919 920 921 922 923 924 925 926 927\n",
      " 928 929 930 931 932 933 934 935 936 937 938 939 940 941 942 943 944 945\n",
      " 946 947 948 949 950 951 952 953 954 955 956 957 958 959 960 961 962 963\n",
      " 964 965 966 967 968 969 970 971 972 973 974 975 976 977 978 979 980 981\n",
      " 982 983 984 985 986 987 988 989 990 991 992 993 994 995 996 997 998 999]\n",
      "Dataset({\n",
      "    features: ['id', 'url', 'title', 'text'],\n",
      "    num_rows: 900\n",
      "})\n"
     ]
    }
   ],
   "source": [
    "X = Dataset.from_dict(data[:1000])\n",
    "\n",
    "print(select_least_similar(X[\"text\"], size_selected= 900, affiche_index=True))"
   ]
  },
  {
   "cell_type": "code",
   "execution_count": 11,
   "metadata": {},
   "outputs": [],
   "source": [
    "        #else:\n",
    "            \n",
    "        #    index = np.randint(0,n-1)\n",
    "        #    while index in selected_indexes:\n",
    "        #        index = np.randint(0,n-1)\n",
    "        #    selected_indexes += [index]\n",
    "        #    selected_text = corpus['text'][index]\n",
    "        #    sub_corpus.append({'text': selected_text})\n",
    "        #    entr_tot = max_entr_tot"
   ]
  }
 ],
 "metadata": {
  "kernelspec": {
   "display_name": "base",
   "language": "python",
   "name": "python3"
  },
  "language_info": {
   "codemirror_mode": {
    "name": "ipython",
    "version": 3
   },
   "file_extension": ".py",
   "mimetype": "text/x-python",
   "name": "python",
   "nbconvert_exporter": "python",
   "pygments_lexer": "ipython3",
   "version": "3.11.6"
  }
 },
 "nbformat": 4,
 "nbformat_minor": 2
}
